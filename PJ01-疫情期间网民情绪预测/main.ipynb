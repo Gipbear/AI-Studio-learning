{
 "cells": [
  {
   "cell_type": "markdown",
   "metadata": {
    "execution": {
     "iopub.execute_input": "2022-03-04T09:49:30.083278Z",
     "iopub.status.busy": "2022-03-04T09:49:30.082641Z",
     "iopub.status.idle": "2022-03-04T09:49:31.385626Z",
     "shell.execute_reply": "2022-03-04T09:49:31.384961Z",
     "shell.execute_reply.started": "2022-03-04T09:49:30.083243Z"
    }
   },
   "source": [
    "## 1. 项目介绍\n",
    "\n",
    "### 1.1 项目背景\n",
    "本项目是我学习自然语言处理的第一个项目，运行环境是[百度飞桨平台](https://aistudio.baidu.com/aistudio/index)。\n",
    "\n",
    "项目内容主要是使用关于[疫情期间微博评论数据集](https://aistudio.baidu.com/aistudio/datasetdetail/130719/0)，利用飞桨的 `PaddleNLP` 自然语言处理开发库，以及预训练模型 `ERNIE` 完成对情绪识别模型的训练，最后进行『面向对象』测试，效果还不错，大家有兴趣可以试试看😜。\n",
    "\n",
    "\n",
    "### 1.2 数据集来源\n",
    "\n",
    "本数据集来源是赛事[疫情期间网民情绪识别](https://www.datafountain.cn/competitions/423)，此处将数据集解压至本项目 `/work` 目录下。\n",
    "\n",
    "数据集是依据与“新冠肺炎”相关的230个主题关键词进行数据采集，抓取了2020年1月1日—2020年2月20日期间共计100万条微博数据，并对其中10万条数据进行人工标注，标注分为三类，分别为：**1（积极），0（中性）和-1（消极）**。\n",
    "\n",
    "> ✋需要注意的是：直接fork本项目的数据集是没有问题的，但是选择使用目前AI studio[同类加精数据集](https://aistudio.baidu.com/aistudio/datasetdetail/22724/0)中的 `train_ dataset.zip` 名字有空格，进行解压之前需要重命名将空格去除，或使用引号。"
   ]
  },
  {
   "cell_type": "code",
   "execution_count": 1,
   "metadata": {
    "execution": {
     "iopub.execute_input": "2022-03-05T08:29:14.148882Z",
     "iopub.status.busy": "2022-03-05T08:29:14.148639Z",
     "iopub.status.idle": "2022-03-05T08:29:14.152056Z",
     "shell.execute_reply": "2022-03-05T08:29:14.151513Z",
     "shell.execute_reply.started": "2022-03-05T08:29:14.148845Z"
    },
    "scrolled": true
   },
   "outputs": [],
   "source": [
    "# # 将数据集解压到 /work 目录下(首次解压取消注释)\n",
    "# !unzip -oq data/data130719/train_dataset.zip -d work/\n",
    "# !unzip -oq data/data130719/test_dataset.zip -d work/"
   ]
  },
  {
   "cell_type": "code",
   "execution_count": 2,
   "metadata": {
    "execution": {
     "iopub.execute_input": "2022-03-05T08:29:14.153019Z",
     "iopub.status.busy": "2022-03-05T08:29:14.152790Z",
     "iopub.status.idle": "2022-03-05T08:29:14.592397Z",
     "shell.execute_reply": "2022-03-05T08:29:14.591672Z",
     "shell.execute_reply.started": "2022-03-05T08:29:14.152997Z"
    },
    "scrolled": true
   },
   "outputs": [],
   "source": [
    "# 将提交数据集复制到 /work下\n",
    "!cp data/data130719/submit_example.csv work/submit_example.csv"
   ]
  },
  {
   "cell_type": "code",
   "execution_count": 3,
   "metadata": {
    "execution": {
     "iopub.execute_input": "2022-03-05T08:29:14.594504Z",
     "iopub.status.busy": "2022-03-05T08:29:14.593942Z",
     "iopub.status.idle": "2022-03-05T08:29:15.000497Z",
     "shell.execute_reply": "2022-03-05T08:29:14.999735Z",
     "shell.execute_reply.started": "2022-03-05T08:29:14.594475Z"
    },
    "scrolled": true
   },
   "outputs": [
    {
     "name": "stdout",
     "output_type": "stream",
     "text": [
      "work/\n",
      "├── .ipynb_checkpoints\n",
      "│   ├── nCov_10k_test-checkpoint.csv\n",
      "│   ├── submit_example-checkpoint.csv\n",
      "│   └── test-checkpoint.txt\n",
      "├── nCoV_100k_train.labled.csv\n",
      "├── nCov_10k_test.csv\n",
      "├── nCoV_900k_train.unlabled.csv\n",
      "├── submit_example.csv\n",
      "├── test.txt\n",
      "├── train.txt\n",
      "└── valid.txt\n",
      "\n",
      "1 directory, 10 files\n"
     ]
    }
   ],
   "source": [
    "# 查看数据集所在目录结构\n",
    "!tree work/ -a"
   ]
  },
  {
   "cell_type": "markdown",
   "metadata": {},
   "source": [
    "### 1.3 数据集信息\n",
    "\n",
    "* **训练数据集**文件名称：nCoV_100k_train.labled.csv\n",
    "\t包含100000条微博用户发布的微博内容, 具体字段如下：\n",
    "\n",
    "  * 微博id，格式为整型。\n",
    "  * 微博发布时间，格式为 `xx月xx日 xx:xx`。\n",
    "  * 发布人账号，格式为字符串。\n",
    "  * 微博中文内容，格式为字符串。\n",
    "  * 微博图片，格式为url超链接，`[ ]`代表不含图片。\n",
    "  * 微博视频，格式为url超链接，`[ ]`代表不含视频。\n",
    "  * 情感倾向，取值为 `{1,0,-1}`。\n",
    "\n",
    "* **测试数据集**文件名称：work/nCov_10k_test.csv\n",
    "\n",
    "\t包含10000条微博用户发布的微博内容，每条数据包括`'微博id', '微博发布时间', '发布人账号', '微博中文内容', '微博图片', '微博视频'`。\n",
    "\n",
    "## 2. 数据探索和预处理\n",
    "\n",
    "由于数据集是使用 `GB2312` 编码，所以需要使用对其进行重新编码并保存。\n",
    "\n",
    "原始数据集中存在解码错误，是微博一些特殊符号或标签引起，难以使用常规编码进行解码，在此对其进行忽略。"
   ]
  },
  {
   "cell_type": "code",
   "execution_count": 4,
   "metadata": {
    "execution": {
     "iopub.execute_input": "2022-03-05T08:29:15.002383Z",
     "iopub.status.busy": "2022-03-05T08:29:15.002147Z",
     "iopub.status.idle": "2022-03-05T08:29:15.005331Z",
     "shell.execute_reply": "2022-03-05T08:29:15.004824Z",
     "shell.execute_reply.started": "2022-03-05T08:29:15.002359Z"
    },
    "scrolled": true
   },
   "outputs": [],
   "source": [
    "# # 对文件进行重新编码（仅首次解压文件后运行）\n",
    "# def re_code(path):\n",
    "#    with open(path, 'r', encoding='GB2312', errors='ignore') as f:\n",
    "#        lines = f.readlines()\n",
    "#    with open(path, 'w', encoding='utf-8') as fw:\n",
    "#         fw.write(''.join(lines))\n",
    "\n",
    "# re_code('work/nCoV_100k_train.labled.csv')\n",
    "# re_code('work/nCov_10k_test.csv')"
   ]
  },
  {
   "cell_type": "markdown",
   "metadata": {},
   "source": [
    "### 2.1 读取数据\n",
    "\n",
    "使用 `pandas` 读取训练集和数据集的数据。\n",
    "\n",
    "> ✋在飞桨平台运行时，若需要在绘制图像时使用中文，则需要进行设置，普通的设置 `plt.rcParams[\"font.sans-serif\"]=[\"SimHei\"]` 和 `plt.rcParams[\"axes.unicode_minus\"]=False`并不能在此简单解决问题。若需要折腾👍，则可以参考[解决AI Studio中matplotlib汉字显示问题](https://aistudio.baidu.com/aistudio/projectdetail/390895)。\n",
    ">\n",
    "> 不过在 **AI Studio** 的一次升级中，**新增文泉驿中文字体**，官方😘给出具体用法参考[Ubuntu 中使用 matplotlib 画图如何正常显示中文](https://www.jianshu.com/p/7d4f88c62815)，也就是此处使用的方法。"
   ]
  },
  {
   "cell_type": "code",
   "execution_count": 5,
   "metadata": {
    "execution": {
     "iopub.execute_input": "2022-03-05T08:29:15.006531Z",
     "iopub.status.busy": "2022-03-05T08:29:15.006141Z",
     "iopub.status.idle": "2022-03-05T08:29:16.058423Z",
     "shell.execute_reply": "2022-03-05T08:29:16.057753Z",
     "shell.execute_reply.started": "2022-03-05T08:29:15.006507Z"
    },
    "scrolled": true
   },
   "outputs": [],
   "source": [
    "import numpy as np\n",
    "import pandas as pd\n",
    "import matplotlib\n",
    "import matplotlib.pyplot as plt\n",
    "import seaborn as sns\n",
    "%matplotlib inline\n",
    "\n",
    "# 设置中文字体\n",
    "myfont = matplotlib.font_manager.FontProperties(fname='/usr/share/fonts/truetype/wqy/wqy-zenhei.ttc')\n",
    "\n",
    "import warnings\n",
    "# 过滤报警信息\n",
    "warnings.filterwarnings(\"ignore\", category=Warning)"
   ]
  },
  {
   "cell_type": "code",
   "execution_count": 6,
   "metadata": {
    "execution": {
     "iopub.execute_input": "2022-03-05T08:29:16.059861Z",
     "iopub.status.busy": "2022-03-05T08:29:16.059557Z",
     "iopub.status.idle": "2022-03-05T08:29:16.834126Z",
     "shell.execute_reply": "2022-03-05T08:29:16.833396Z",
     "shell.execute_reply.started": "2022-03-05T08:29:16.059834Z"
    },
    "scrolled": true
   },
   "outputs": [],
   "source": [
    "# 读取训练集和测试集数据\n",
    "df_train = pd.read_csv('work/nCoV_100k_train.labled.csv')\n",
    "df_test = pd.read_csv('work/nCov_10k_test.csv')"
   ]
  },
  {
   "cell_type": "code",
   "execution_count": 7,
   "metadata": {
    "execution": {
     "iopub.execute_input": "2022-03-05T08:29:16.836578Z",
     "iopub.status.busy": "2022-03-05T08:29:16.836104Z",
     "iopub.status.idle": "2022-03-05T08:29:16.841524Z",
     "shell.execute_reply": "2022-03-05T08:29:16.840954Z",
     "shell.execute_reply.started": "2022-03-05T08:29:16.836548Z"
    },
    "scrolled": true
   },
   "outputs": [
    {
     "name": "stdout",
     "output_type": "stream",
     "text": [
      "训练集的数据大小为(100000, 7)\n",
      "测试集的数据大小为(10000, 6)\n",
      "数据字段为Index(['微博id', '微博发布时间', '发布人账号', '微博中文内容', '微博图片', '微博视频', '情感倾向'], dtype='object')\n",
      "数据字段为Index(['微博id', '微博发布时间', '发布人账号', '微博中文内容', '微博图片', '微博视频'], dtype='object')\n"
     ]
    }
   ],
   "source": [
    "# 查看数据集信息\n",
    "print(f\"训练集的数据大小为{df_train.shape}\")\n",
    "print(f\"测试集的数据大小为{df_test.shape}\")\n",
    "print(f\"数据字段为{df_train.columns}\")\n",
    "print(f\"数据字段为{df_test.columns}\")"
   ]
  },
  {
   "cell_type": "code",
   "execution_count": 8,
   "metadata": {
    "execution": {
     "iopub.execute_input": "2022-03-05T08:29:16.842847Z",
     "iopub.status.busy": "2022-03-05T08:29:16.842434Z",
     "iopub.status.idle": "2022-03-05T08:29:16.859940Z",
     "shell.execute_reply": "2022-03-05T08:29:16.859365Z",
     "shell.execute_reply.started": "2022-03-05T08:29:16.842819Z"
    },
    "scrolled": true
   },
   "outputs": [
    {
     "data": {
      "text/html": [
       "<div>\n",
       "<style scoped>\n",
       "    .dataframe tbody tr th:only-of-type {\n",
       "        vertical-align: middle;\n",
       "    }\n",
       "\n",
       "    .dataframe tbody tr th {\n",
       "        vertical-align: top;\n",
       "    }\n",
       "\n",
       "    .dataframe thead th {\n",
       "        text-align: right;\n",
       "    }\n",
       "</style>\n",
       "<table border=\"1\" class=\"dataframe\">\n",
       "  <thead>\n",
       "    <tr style=\"text-align: right;\">\n",
       "      <th></th>\n",
       "      <th>微博id</th>\n",
       "      <th>微博发布时间</th>\n",
       "      <th>发布人账号</th>\n",
       "      <th>微博中文内容</th>\n",
       "      <th>微博图片</th>\n",
       "      <th>微博视频</th>\n",
       "      <th>情感倾向</th>\n",
       "    </tr>\n",
       "  </thead>\n",
       "  <tbody>\n",
       "    <tr>\n",
       "      <th>0</th>\n",
       "      <td>4456072029125500</td>\n",
       "      <td>01月01日 23:50</td>\n",
       "      <td>存曦1988</td>\n",
       "      <td>写在年末冬初孩子流感的第五天，我们仍然没有忘记热情拥抱这2020年的第一天。带着一丝迷信，早...</td>\n",
       "      <td>['https://ww2.sinaimg.cn/orj360/005VnA1zly1gah...</td>\n",
       "      <td>[]</td>\n",
       "      <td>0</td>\n",
       "    </tr>\n",
       "    <tr>\n",
       "      <th>1</th>\n",
       "      <td>4456074167480980</td>\n",
       "      <td>01月01日 23:58</td>\n",
       "      <td>LunaKrys</td>\n",
       "      <td>开年大模型…累到以为自己发烧了腰疼膝盖疼腿疼胳膊疼脖子疼#Luna的Krystallife#?</td>\n",
       "      <td>[]</td>\n",
       "      <td>[]</td>\n",
       "      <td>-1</td>\n",
       "    </tr>\n",
       "    <tr>\n",
       "      <th>99998</th>\n",
       "      <td>4472950743017610</td>\n",
       "      <td>02月17日 13:40</td>\n",
       "      <td>医库</td>\n",
       "      <td>【新冠疫情最受关注的十一篇英文核心期刊论文全解析】本文整理了关于新型冠状病毒最受关注的十一篇...</td>\n",
       "      <td>[]</td>\n",
       "      <td>[]</td>\n",
       "      <td>1</td>\n",
       "    </tr>\n",
       "    <tr>\n",
       "      <th>99999</th>\n",
       "      <td>4472870103356260</td>\n",
       "      <td>02月17日 08:19</td>\n",
       "      <td>有度为王</td>\n",
       "      <td>从蝙蝠携带的冠状病毒变异成2019-nCoV冠状病毒,怎样才能发生变异呢？有两种可能1.自然...</td>\n",
       "      <td>[]</td>\n",
       "      <td>[]</td>\n",
       "      <td>0</td>\n",
       "    </tr>\n",
       "  </tbody>\n",
       "</table>\n",
       "</div>"
      ],
      "text/plain": [
       "                   微博id        微博发布时间     发布人账号  \\\n",
       "0      4456072029125500  01月01日 23:50    存曦1988   \n",
       "1      4456074167480980  01月01日 23:58  LunaKrys   \n",
       "99998  4472950743017610  02月17日 13:40        医库   \n",
       "99999  4472870103356260  02月17日 08:19      有度为王   \n",
       "\n",
       "                                                  微博中文内容  \\\n",
       "0      写在年末冬初孩子流感的第五天，我们仍然没有忘记热情拥抱这2020年的第一天。带着一丝迷信，早...   \n",
       "1        开年大模型…累到以为自己发烧了腰疼膝盖疼腿疼胳膊疼脖子疼#Luna的Krystallife#?   \n",
       "99998  【新冠疫情最受关注的十一篇英文核心期刊论文全解析】本文整理了关于新型冠状病毒最受关注的十一篇...   \n",
       "99999  从蝙蝠携带的冠状病毒变异成2019-nCoV冠状病毒,怎样才能发生变异呢？有两种可能1.自然...   \n",
       "\n",
       "                                                    微博图片 微博视频 情感倾向  \n",
       "0      ['https://ww2.sinaimg.cn/orj360/005VnA1zly1gah...   []    0  \n",
       "1                                                     []   []   -1  \n",
       "99998                                                 []   []    1  \n",
       "99999                                                 []   []    0  "
      ]
     },
     "execution_count": 8,
     "metadata": {},
     "output_type": "execute_result"
    }
   ],
   "source": [
    "# 简单查看一下数据\n",
    "df_train.head(2).append(df_train.tail(2))"
   ]
  },
  {
   "cell_type": "markdown",
   "metadata": {},
   "source": [
    "### 2.2 标签分布\n",
    "\n",
    "对于训练集，用户情感已经进行了标注，并分为三类，分别是：**1（积极），0（中性）和-1（消极）**。\n",
    "\n",
    "但是数据集中存在部分异常数据，将其删除。\n",
    "\n",
    "进而绘制柱状图可以发现：大部分样本表现出中性情绪，其次是积极情绪，而消极情绪样本最小。"
   ]
  },
  {
   "cell_type": "code",
   "execution_count": 9,
   "metadata": {
    "execution": {
     "iopub.execute_input": "2022-03-05T08:29:16.861380Z",
     "iopub.status.busy": "2022-03-05T08:29:16.860935Z",
     "iopub.status.idle": "2022-03-05T08:29:17.059282Z",
     "shell.execute_reply": "2022-03-05T08:29:17.058574Z",
     "shell.execute_reply.started": "2022-03-05T08:29:16.861349Z"
    },
    "scrolled": true
   },
   "outputs": [
    {
     "data": {
      "image/png": "[encoded data removed]",
      "text/plain": [
       "<Figure size 432x288 with 1 Axes>"
      ]
     },
     "metadata": {
      "needs_background": "light"
     },
     "output_type": "display_data"
    }
   ],
   "source": [
    "# 删除极少量（7条）异常数据，保留正常情感倾向标签\n",
    "df_train = df_train[df_train['情感倾向'].map(lambda x: x == '1' or x == '-1' or x == '0')]\n",
    "df_train.shape\n",
    "\n",
    "df_train['情感倾向'].value_counts(normalize=True).plot.bar(rot=0)\n",
    "plt.title(\"用户情感分布\", fontproperties=myfont, fontsize=16)\n",
    "plt.show()"
   ]
  },
  {
   "cell_type": "markdown",
   "metadata": {},
   "source": [
    "### 2.3 文本长度\n",
    "\n",
    "微博内容包括`微博中文内容、微博图片、微博视频`三部分，但对于我们来说，只关心用户发表的文本信息，所以在此对文本进行查看\n",
    "\n",
    "可以发现：平均长度为`87`个字符，最大长度为`241`个字符，大部分文本长度处于在`150`个字符以下，呈**双峰分布**。"
   ]
  },
  {
   "cell_type": "code",
   "execution_count": 10,
   "metadata": {
    "execution": {
     "iopub.execute_input": "2022-03-05T08:29:17.060745Z",
     "iopub.status.busy": "2022-03-05T08:29:17.060273Z",
     "iopub.status.idle": "2022-03-05T08:29:17.185428Z",
     "shell.execute_reply": "2022-03-05T08:29:17.184753Z",
     "shell.execute_reply.started": "2022-03-05T08:29:17.060714Z"
    },
    "scrolled": true
   },
   "outputs": [],
   "source": [
    "df_train.loc[:, '微博中文内容'] = df_train.loc[:, '微博中文内容'].astype(str)\n",
    "text_length = df_train.loc[:, '微博中文内容'].map(lambda x: len(x))\n",
    "text_length.name = '中文内容长度'"
   ]
  },
  {
   "cell_type": "code",
   "execution_count": 11,
   "metadata": {
    "execution": {
     "iopub.execute_input": "2022-03-05T08:29:17.186971Z",
     "iopub.status.busy": "2022-03-05T08:29:17.186462Z",
     "iopub.status.idle": "2022-03-05T08:29:17.907460Z",
     "shell.execute_reply": "2022-03-05T08:29:17.906884Z",
     "shell.execute_reply.started": "2022-03-05T08:29:17.186935Z"
    },
    "scrolled": true
   },
   "outputs": [
    {
     "data": {
      "image/png": "[encoded data removed]",
      "text/plain": [
       "<Figure size 600x300 with 1 Axes>"
      ]
     },
     "metadata": {
      "needs_background": "light"
     },
     "output_type": "display_data"
    }
   ],
   "source": [
    "# 调节图像大小, 清晰度\n",
    "plt.figure(figsize=(6,3), dpi=100)\n",
    "# 绘制直方图\n",
    "sns.distplot(text_length)\n",
    "plt.title('文本长度分布情况', fontproperties=myfont, fontsize=16)\n",
    "plt.xlabel('文本长度', fontproperties=myfont, fontsize=12)\n",
    "plt.show()"
   ]
  },
  {
   "cell_type": "code",
   "execution_count": 12,
   "metadata": {
    "execution": {
     "iopub.execute_input": "2022-03-05T08:29:17.926075Z",
     "iopub.status.busy": "2022-03-05T08:29:17.908417Z",
     "iopub.status.idle": "2022-03-05T08:29:17.938023Z",
     "shell.execute_reply": "2022-03-05T08:29:17.937163Z",
     "shell.execute_reply.started": "2022-03-05T08:29:17.926036Z"
    },
    "scrolled": true
   },
   "outputs": [
    {
     "data": {
      "text/plain": [
       "count    99913.000000\n",
       "mean        86.978661\n",
       "std         49.521746\n",
       "min          1.000000\n",
       "25%         42.000000\n",
       "50%         86.000000\n",
       "75%        139.000000\n",
       "max        241.000000\n",
       "Name: 中文内容长度, dtype: float64"
      ]
     },
     "execution_count": 12,
     "metadata": {},
     "output_type": "execute_result"
    }
   ],
   "source": [
    "text_length.describe()"
   ]
  },
  {
   "cell_type": "markdown",
   "metadata": {},
   "source": [
    "### 2.4 划分数据集\n",
    "\n",
    "在原本数据集中存在很多不需要的字段，仅需要保留 `微博中文内容` 和 `微博中文内容` 即可。\n",
    "\n",
    "并将提供的整个训练集划分为：训练集和验证集。并保存为txt文件"
   ]
  },
  {
   "cell_type": "code",
   "execution_count": 13,
   "metadata": {
    "execution": {
     "iopub.execute_input": "2022-03-05T08:29:17.940166Z",
     "iopub.status.busy": "2022-03-05T08:29:17.939472Z",
     "iopub.status.idle": "2022-03-05T08:29:18.532771Z",
     "shell.execute_reply": "2022-03-05T08:29:18.531656Z",
     "shell.execute_reply.started": "2022-03-05T08:29:17.940117Z"
    },
    "scrolled": true
   },
   "outputs": [],
   "source": [
    "# 使用 train_test_split 自动划分训练集和验证集\n",
    "from sklearn.model_selection import train_test_split\n",
    "\n",
    "train_labled = df_train[['微博中文内容', '情感倾向']]\n",
    "train, valid = train_test_split(train_labled, test_size=0.2, random_state=10086)\n",
    "train.to_csv('work/train.txt', index=False, header=False, sep='\\t')\n",
    "valid.to_csv('work/valid.txt', index=False, header=False, sep='\\t')\n",
    "\n",
    "test = df_test[['微博中文内容']]\n",
    "test.to_csv('work/test.txt', index=False, header=False, sep='\\t')"
   ]
  },
  {
   "cell_type": "markdown",
   "metadata": {},
   "source": [
    "### 2.5 使用load_dataset导入数据\n",
    "\n",
    "为了保持数据和paddlenlp默认数据集一致， 使用 `paddlenlp.datasets.load_dataset` 从本地文件中导入数据。\n",
    "\n",
    "需要自定义 `read_out` 方法来进行数据格式处理。\n",
    "\n",
    "> ✋注意：但是由于后续在计算损失`loss = criterion(logits, labels)`的时候一直报一个`-1`的错误, 所以这里将用户情感标签修改为**2（积极），1（中性）和0（消极）**，但不影响模型。具体原因不是非常明白，若有大佬清楚，欢迎留言指点😘。"
   ]
  },
  {
   "cell_type": "code",
   "execution_count": 14,
   "metadata": {
    "execution": {
     "iopub.execute_input": "2022-03-05T08:29:18.534747Z",
     "iopub.status.busy": "2022-03-05T08:29:18.534184Z",
     "iopub.status.idle": "2022-03-05T08:29:20.469744Z",
     "shell.execute_reply": "2022-03-05T08:29:20.468821Z",
     "shell.execute_reply.started": "2022-03-05T08:29:18.534707Z"
    },
    "scrolled": true
   },
   "outputs": [],
   "source": [
    "import paddle\n",
    "import paddlenlp as ppnlp\n",
    "from paddlenlp.datasets import load_dataset\n",
    "\n",
    "def read_out(data_path):\n",
    "    \"\"\"\n",
    "    使用自定义数据集本地加载，读取整理好的数据集\n",
    "    \"\"\"\n",
    "    with open(data_path, 'r', encoding='utf-8') as f:\n",
    "        for line in f:\n",
    "            line_stripped = line.strip().split('\\t')\n",
    "            if not line_stripped:\n",
    "                break\n",
    "            if len(line_stripped) == 2:\n",
    "                text = line_stripped[0]\n",
    "                tags = int(line_stripped[1]) + 1  # 使标签变成 0-消极， 1-中性， 2-积极\n",
    "            else:\n",
    "                text = line_stripped\n",
    "                tags = []\n",
    "            yield {\"text\": text, \"label\": tags}\n",
    "\n",
    "\n",
    "# 分别根据自定义的读取方法，从文件中获得训练和验证数据\n",
    "train_ds = load_dataset(read_out, data_path='work/train.txt', lazy=False)\n",
    "dev_ds = load_dataset(read_out, data_path='work/valid.txt', lazy=False)"
   ]
  },
  {
   "cell_type": "markdown",
   "metadata": {},
   "source": [
    "### 2.6 数据集测试\n",
    "\n",
    "主要是测试加载数据的方法是否可行，并观察数据的格式等基本情况。"
   ]
  },
  {
   "cell_type": "code",
   "execution_count": 15,
   "metadata": {
    "execution": {
     "iopub.execute_input": "2022-03-05T08:29:20.471438Z",
     "iopub.status.busy": "2022-03-05T08:29:20.471121Z",
     "iopub.status.idle": "2022-03-05T08:29:20.485060Z",
     "shell.execute_reply": "2022-03-05T08:29:20.484517Z",
     "shell.execute_reply.started": "2022-03-05T08:29:20.471406Z"
    },
    "scrolled": true
   },
   "outputs": [
    {
     "name": "stdout",
     "output_type": "stream",
     "text": [
      "=============测试训练集=============\n",
      "{'text': '这几天做得最多的表情是，凶，生气，皱眉，面目狰狞，主要是显示出我的气势但好累呀晚上有两只狗没牵绳的，我和阿福先在草坪那里站着，突然后面就来声音把我吓着了，两个狗子其实看上去也挺漂亮可爱。就是一直追着阿福，阿福叫得厉害，我一直拉着阿福回家，本来阿福都平静下来了，结果其中?展开全文c', 'label': 1}\n",
      "{'text': '#天天向上#哈哈哈哈哈哈哈天天向上太优秀了，云录制，期待啊?', 'label': 2}\n",
      "{'text': '对于这次病毒战役，从目前的数据来看，致死率一直维持比较低的状态，湖北本身前期准备工作等不足导致病死率相对高点，但省外和国外，病死率一直控制在极低水平。02DYxHg03。外，近期白岩松邀请流行病学家吴尊友谈病死率的时候就给到这样的数据：经过7000多病例的分析,1,小于30岁的基本没有死亡。2,40至?展开全文c', 'label': 1}\n",
      "=============测试验证集=============\n",
      "{'text': '//@秦t墨://@贝勒王duki://@进击的熊爸爸:都是中国人//@Makerforce:不一样的中国。东北三省不分家，江苏十三太保各自为政充分体现了共和国的多样型', 'label': 2}\n",
      "{'text': '#摩登兄弟武汉演唱会#??#元萸啻夯锇榱跤钅#??摩登兄弟摩登兄弟mdxd刘宇宁lyn棚主宁哥陪你的第二个跨年，这一年你收获了好多成绩，演唱会，专辑，电视剧，各个活动，真的特别棒，2020年继续加油努力，我们还会陪在你的身边一直支持你。@MD_摩登兄弟?', 'label': 2}\n",
      "{'text': '早日团员！#万众一心打赢疫情防控阻击战##防控疫情西藏在行动#', 'label': 2}\n"
     ]
    }
   ],
   "source": [
    "print('=============测试训练集=============')\n",
    "for data in train_ds.data[:3]:\n",
    "    print(data)\n",
    "\n",
    "print('=============测试验证集=============')\n",
    "for data in dev_ds.data[:3]:\n",
    "    print(data)"
   ]
  },
  {
   "cell_type": "markdown",
   "metadata": {},
   "source": [
    "## 3. 模型介绍\n",
    "\n",
    "训练模型使用的是 `ERNIE`，是百度开创性提出的基于知识增强的持续学习**语义理解框架**，该框架将大数据预训练与多源丰富知识相结合，通过持续学习技术，不断吸收海量文本数据中词汇、结构、语义等方面的知识，实现模型效果不断进化，详细介绍可参考[持续学习语义理解框架ERNIE](https://aistudio.baidu.com/aistudio/projectdetail/3562850)。\n",
    "\n",
    "### 3.1 Transformer\n",
    "\n",
    "`ERNIE` 使用 `Transformer` 作为其语义框架。\n",
    "\n",
    "将语句中所有的词传入到 `Transformer` 模型中，通过一个 `self-attention` 机制计算出在该语句中各个词之间的关系，表现出哪些词的权重更大，再进行类似归一化和求和的操作，并通过前馈神经网络多层表示，最后得到这个词的新的表示。\n",
    "\n",
    "![Transformer模型](image/Transformer模型.png)\n",
    "\n",
    "### 3.2 ERNIE 模型\n",
    "\n",
    "`BERT` 全称是 **E**nhanced **R**epresentation through k**N**owledge **I**nt**E**gration 『基于知识融合(Knowledge Masking)的新一代语义表示模型』，模型是基于`Transformer` 模型产生的，其预训练任务有两个：\n",
    "\n",
    "* 一个是类似完形填空任务，通过 `Mask` 掩盖部分字，再进行预测得到该语句，通过这个过程就学习了字与字之间的规律；\n",
    "* 另一个是上下文语句的预测，学习句子之间的语句关系。\n",
    "\n",
    "但是模型难以学到词、短语和实体完整的语义关系。\n",
    "\n",
    "相较于 `BERT` 学习原始语言信号，`ERNIE 1.0` 提出了一个知识融合的方法，通过对词、短语和实体的**完整**的语义关系进行掩码和预测。\n"
   ]
  },
  {
   "cell_type": "markdown",
   "metadata": {},
   "source": [
    "## 4. 训练模型\n",
    "\n",
    "首先确保安装了PaddleNLP。"
   ]
  },
  {
   "cell_type": "code",
   "execution_count": 16,
   "metadata": {
    "execution": {
     "iopub.execute_input": "2022-03-05T08:29:20.486416Z",
     "iopub.status.busy": "2022-03-05T08:29:20.486009Z",
     "iopub.status.idle": "2022-03-05T08:29:22.772391Z",
     "shell.execute_reply": "2022-03-05T08:29:22.771610Z",
     "shell.execute_reply.started": "2022-03-05T08:29:20.486385Z"
    },
    "scrolled": true
   },
   "outputs": [
    {
     "name": "stdout",
     "output_type": "stream",
     "text": [
      "Looking in indexes: https://pypi.tuna.tsinghua.edu.cn/simple\n",
      "Requirement already satisfied: paddlenlp in /opt/conda/envs/python35-paddle120-env/lib/python3.7/site-packages (2.2.4)\n",
      "Requirement already satisfied: multiprocess in /opt/conda/envs/python35-paddle120-env/lib/python3.7/site-packages (from paddlenlp) (0.70.11.1)\n",
      "Requirement already satisfied: colorama in /opt/conda/envs/python35-paddle120-env/lib/python3.7/site-packages (from paddlenlp) (0.4.4)\n",
      "Requirement already satisfied: h5py in /opt/conda/envs/python35-paddle120-env/lib/python3.7/site-packages (from paddlenlp) (2.9.0)\n",
      "Requirement already satisfied: jieba in /opt/conda/envs/python35-paddle120-env/lib/python3.7/site-packages (from paddlenlp) (0.42.1)\n",
      "Requirement already satisfied: colorlog in /opt/conda/envs/python35-paddle120-env/lib/python3.7/site-packages (from paddlenlp) (4.1.0)\n",
      "Requirement already satisfied: seqeval in /opt/conda/envs/python35-paddle120-env/lib/python3.7/site-packages (from paddlenlp) (1.2.2)\n",
      "Requirement already satisfied: numpy>=1.7 in /opt/conda/envs/python35-paddle120-env/lib/python3.7/site-packages (from h5py->paddlenlp) (1.19.5)\n",
      "Requirement already satisfied: six in /opt/conda/envs/python35-paddle120-env/lib/python3.7/site-packages (from h5py->paddlenlp) (1.16.0)\n",
      "Requirement already satisfied: dill>=0.3.3 in /opt/conda/envs/python35-paddle120-env/lib/python3.7/site-packages (from multiprocess->paddlenlp) (0.3.3)\n",
      "Requirement already satisfied: scikit-learn>=0.21.3 in /opt/conda/envs/python35-paddle120-env/lib/python3.7/site-packages (from seqeval->paddlenlp) (0.24.2)\n",
      "Requirement already satisfied: threadpoolctl>=2.0.0 in /opt/conda/envs/python35-paddle120-env/lib/python3.7/site-packages (from scikit-learn>=0.21.3->seqeval->paddlenlp) (2.1.0)\n",
      "Requirement already satisfied: joblib>=0.11 in /opt/conda/envs/python35-paddle120-env/lib/python3.7/site-packages (from scikit-learn>=0.21.3->seqeval->paddlenlp) (0.14.1)\n",
      "Requirement already satisfied: scipy>=0.19.1 in /opt/conda/envs/python35-paddle120-env/lib/python3.7/site-packages (from scikit-learn>=0.21.3->seqeval->paddlenlp) (1.6.3)\n",
      "WARNING: You are using pip version 21.3.1; however, version 22.0.3 is available.\n",
      "You should consider upgrading via the '/opt/conda/envs/python35-paddle120-env/bin/python -m pip install --upgrade pip' command.\n"
     ]
    }
   ],
   "source": [
    "# 安装PaddleNLP\n",
    "!pip install --upgrade paddlenlp"
   ]
  },
  {
   "cell_type": "markdown",
   "metadata": {},
   "source": [
    "### 4.1 加载模型\n",
    "\n",
    "由于预训练模型 `ERNIE` 对中文数据的处理是以字为单位，所以需要将训练数据转化为相应的数据形式，以此来匹配模型的输入。\n",
    "\n",
    "在 `PaddleNLP` 中，对于很多预训练模型都内置了 `tokenizer` 来实现对输入的自然语句进行 `token` 化，按照字粒度对句子进行切分，只需要指定想要使用的模型名字作为参数即可。"
   ]
  },
  {
   "cell_type": "code",
   "execution_count": 17,
   "metadata": {
    "execution": {
     "iopub.execute_input": "2022-03-05T08:29:22.774154Z",
     "iopub.status.busy": "2022-03-05T08:29:22.773771Z",
     "iopub.status.idle": "2022-03-05T08:29:27.952016Z",
     "shell.execute_reply": "2022-03-05T08:29:27.951229Z",
     "shell.execute_reply.started": "2022-03-05T08:29:22.774125Z"
    },
    "scrolled": true
   },
   "outputs": [
    {
     "name": "stderr",
     "output_type": "stream",
     "text": [
      "[2022-03-05 16:29:22,776] [    INFO] - Already cached /home/aistudio/.paddlenlp/models/ernie-1.0/vocab.txt\n",
      "[2022-03-05 16:29:22,791] [    INFO] - Already cached /home/aistudio/.paddlenlp/models/ernie-1.0/ernie_v1_chn_base.pdparams\n",
      "W0305 16:29:22.794826 11862 device_context.cc:447] Please NOTE: device: 0, GPU Compute Capability: 7.0, Driver API Version: 11.0, Runtime API Version: 10.1\n",
      "W0305 16:29:22.800236 11862 device_context.cc:465] device: 0, cuDNN Version: 7.6.\n"
     ]
    }
   ],
   "source": [
    "# 设置想要使用模型的名称\n",
    "MODEL_NAME = \"ernie-1.0\"\n",
    "\n",
    "# 加载转化数字格式的工具 tokenizer\n",
    "tokenizer = ppnlp.transformers.ErnieTokenizer.from_pretrained(MODEL_NAME)\n",
    "# 加载模型\n",
    "model = ppnlp.transformers.ErnieForSequenceClassification.from_pretrained(MODEL_NAME, num_classes=len(['-1','0','1']))"
   ]
  },
  {
   "cell_type": "markdown",
   "metadata": {},
   "source": [
    "### 4.2 构建加载器 DataLoader\n",
    "\n",
    "* `paddlenlp.data.Stack`：用于堆叠N个具有相同shape的输入数据来**构建一个batch**。\n",
    "* `paddlenlp.data.Pad`：用于堆叠N个输入数据来构建一个batch，每个输入数据将会被**padding到**N个输入数据中**最大的长度**。\n",
    "* `paddlenlp.data.Tuple`：用于将多个batchify函数**包装**在一起，返回tuple类型。"
   ]
  },
  {
   "cell_type": "code",
   "execution_count": 18,
   "metadata": {
    "execution": {
     "iopub.execute_input": "2022-03-05T08:29:27.953583Z",
     "iopub.status.busy": "2022-03-05T08:29:27.953125Z",
     "iopub.status.idle": "2022-03-05T08:29:27.961404Z",
     "shell.execute_reply": "2022-03-05T08:29:27.960853Z",
     "shell.execute_reply.started": "2022-03-05T08:29:27.953552Z"
    },
    "scrolled": true
   },
   "outputs": [],
   "source": [
    "from functools import partial\n",
    "from paddlenlp.data import Stack, Tuple, Pad\n",
    "from utils import  convert_example, create_dataloader\n",
    "\n",
    "# 模型运行批处理大小\n",
    "batch_size = 256\n",
    "# 样本最大长度\n",
    "max_seq_length = 128\n",
    "\n",
    "# 定义转换数据形式的方法\n",
    "trans_func = partial(\n",
    "    convert_example,\n",
    "    tokenizer=tokenizer,\n",
    "    max_seq_length=max_seq_length)\n",
    "\n",
    "# 指定如何合并样本，组一个batch\n",
    "batchify_fn = lambda samples, fn=Tuple(\n",
    "    Pad(axis=0, pad_val=tokenizer.pad_token_id),  # input\n",
    "    Pad(axis=0, pad_val=tokenizer.pad_token_type_id),  # segment\n",
    "    Stack(dtype=\"int64\")  # label\n",
    "): [data for data in fn(samples)]\n",
    "\n",
    "# 训练集数据加载器\n",
    "train_data_loader = create_dataloader(\n",
    "    train_ds,\n",
    "    mode='train',\n",
    "    batch_size=batch_size,\n",
    "    batchify_fn=batchify_fn,\n",
    "    trans_fn=trans_func)\n",
    "# 验证集数据加载器\n",
    "dev_data_loader = create_dataloader(\n",
    "    dev_ds,\n",
    "    mode='dev',\n",
    "    batch_size=batch_size,\n",
    "    batchify_fn=batchify_fn,\n",
    "    trans_fn=trans_func)"
   ]
  },
  {
   "cell_type": "markdown",
   "metadata": {
    "execution": {
     "iopub.execute_input": "2022-03-04T13:08:58.971980Z",
     "iopub.status.busy": "2022-03-04T13:08:58.971017Z",
     "iopub.status.idle": "2022-03-04T13:08:58.978942Z",
     "shell.execute_reply": "2022-03-04T13:08:58.977940Z",
     "shell.execute_reply.started": "2022-03-04T13:08:58.971934Z"
    }
   },
   "source": [
    "### 4.3 构建优化器、选择损失函数和度量指标\n",
    "\n",
    "* 学习率：Warmup 是一种学习率预热方法，在训练开始时先选择较小的学习率，训练一定程度后，再修改为预先设置的学习率训练。而 Decay 是学习率衰减方法，它指定在训练到一定 epochs 或者 steps 后，按照线性或者余弦函数等方式，将学习率降低至指定值。此处使用 `LinearDecayWithWarmup`，学习率会遵循**从小到大，再减小**的规律。\n",
    "* 优化器：就是在深度学习反向传播过程中，指引损失函数（目标函数）的各个参数往正确的方向更新合适的大小，使得更新后的各个参数让损失函数（目标函数）值不断逼近全局最小。 这里选择使用 `AdamW` 优化算法。\n",
    "* 损失函数：此处选择交叉熵损失函数 `CrossEntropyLoss`，交叉熵的大小表示两个概率分布之间的差异，可以通过最小化交叉熵来得到目标概率分布的近似分布。\n",
    "* 度量指标：选择准确率 `Accuracy`。"
   ]
  },
  {
   "cell_type": "code",
   "execution_count": 19,
   "metadata": {
    "execution": {
     "iopub.execute_input": "2022-03-05T08:29:27.964995Z",
     "iopub.status.busy": "2022-03-05T08:29:27.964577Z",
     "iopub.status.idle": "2022-03-05T08:29:27.972071Z",
     "shell.execute_reply": "2022-03-05T08:29:27.971548Z",
     "shell.execute_reply.started": "2022-03-05T08:29:27.964969Z"
    },
    "scrolled": true
   },
   "outputs": [],
   "source": [
    "from paddlenlp.transformers import LinearDecayWithWarmup\n",
    "\n",
    "# 训练过程中的最大学习率\n",
    "learning_rate = 5e-5 \n",
    "# 训练轮次\n",
    "epochs = 5\n",
    "# 学习率预热比例\n",
    "warmup_proportion = 0.1\n",
    "# 权重衰减系数，类似模型正则项策略，避免模型过拟合\n",
    "weight_decay = 0.01\n",
    "\n",
    "num_training_steps = len(train_data_loader) * epochs\n",
    "# 学习率调整策略\n",
    "lr_scheduler = LinearDecayWithWarmup(learning_rate, num_training_steps, warmup_proportion)\n",
    "# 优化器\n",
    "optimizer = paddle.optimizer.AdamW(\n",
    "    learning_rate=lr_scheduler,\n",
    "    parameters=model.parameters(),\n",
    "    weight_decay=weight_decay,\n",
    "    apply_decay_param_fun=lambda x: x in [\n",
    "        p.name for n, p in model.named_parameters()\n",
    "        if not any(nd in n for nd in [\"bias\", \"norm\"])\n",
    "    ])\n",
    "\n",
    "criterion = paddle.nn.loss.CrossEntropyLoss()  # 交叉熵损失函数\n",
    "metric = paddle.metric.Accuracy()  # 准确率"
   ]
  },
  {
   "cell_type": "markdown",
   "metadata": {},
   "source": [
    "### 4.4 模型训练与评估\n",
    "\n",
    "在每个训练模型训练步骤：\n",
    "\n",
    "1. 从 `dataloader` 中取出一个`batch data`；\n",
    "2. 将 `batch data` 作为输入传入 `model`，做前向计算；\n",
    "3. 将前向计算结果传给损失函数，计算 `loss`；将前向计算结果传给评价方法，计算评价指标；\n",
    "4. loss反向回传，更新梯度；\n",
    "5. 重复以上步骤。\n",
    "\n",
    "每训练一个 epoch 时，程序将会评估一次，评估当前模型训练的效果。"
   ]
  },
  {
   "cell_type": "code",
   "execution_count": 20,
   "metadata": {
    "execution": {
     "iopub.execute_input": "2022-03-05T08:29:27.973183Z",
     "iopub.status.busy": "2022-03-05T08:29:27.972834Z",
     "iopub.status.idle": "2022-03-05T08:29:28.566543Z",
     "shell.execute_reply": "2022-03-05T08:29:28.565096Z",
     "shell.execute_reply.started": "2022-03-05T08:29:27.973159Z"
    },
    "scrolled": true
   },
   "outputs": [
    {
     "name": "stdout",
     "output_type": "stream",
     "text": [
      "mkdir: 无法创建目录\"/home/aistudio/model\": 文件已存在\n"
     ]
    }
   ],
   "source": [
    "# model文件夹用于保存训练模型\n",
    "!mkdir /home/aistudio/model"
   ]
  },
  {
   "cell_type": "code",
   "execution_count": 21,
   "metadata": {
    "execution": {
     "iopub.execute_input": "2022-03-05T08:29:28.568326Z",
     "iopub.status.busy": "2022-03-05T08:29:28.567989Z",
     "iopub.status.idle": "2022-03-05T08:57:41.116207Z",
     "shell.execute_reply": "2022-03-05T08:57:41.115358Z",
     "shell.execute_reply.started": "2022-03-05T08:29:28.568298Z"
    },
    "scrolled": true
   },
   "outputs": [
    {
     "name": "stdout",
     "output_type": "stream",
     "text": [
      "global step 10, epoch: 1, batch: 9, loss: 1.72641, acc: 0.17344\n",
      "global step 20, epoch: 1, batch: 19, loss: 1.44896, acc: 0.17266\n",
      "global step 30, epoch: 1, batch: 29, loss: 1.38964, acc: 0.18958\n",
      "global step 40, epoch: 1, batch: 39, loss: 1.08722, acc: 0.20977\n",
      "global step 50, epoch: 1, batch: 49, loss: 1.00216, acc: 0.25938\n",
      "global step 60, epoch: 1, batch: 59, loss: 0.92373, acc: 0.30885\n",
      "global step 70, epoch: 1, batch: 69, loss: 0.89821, acc: 0.35067\n",
      "global step 80, epoch: 1, batch: 79, loss: 0.92912, acc: 0.37969\n",
      "global step 90, epoch: 1, batch: 89, loss: 0.81948, acc: 0.40729\n",
      "global step 100, epoch: 1, batch: 99, loss: 0.72633, acc: 0.42750\n",
      "global step 110, epoch: 1, batch: 109, loss: 0.82914, acc: 0.44858\n",
      "global step 120, epoch: 1, batch: 119, loss: 0.76767, acc: 0.46641\n",
      "global step 130, epoch: 1, batch: 129, loss: 0.70897, acc: 0.48221\n",
      "global step 140, epoch: 1, batch: 139, loss: 0.77717, acc: 0.49967\n",
      "global step 150, epoch: 1, batch: 149, loss: 0.84634, acc: 0.51385\n",
      "global step 160, epoch: 1, batch: 159, loss: 0.51280, acc: 0.52861\n",
      "global step 170, epoch: 1, batch: 169, loss: 0.63842, acc: 0.54081\n",
      "global step 180, epoch: 1, batch: 179, loss: 0.58629, acc: 0.55208\n",
      "global step 190, epoch: 1, batch: 189, loss: 0.70386, acc: 0.55954\n",
      "global step 200, epoch: 1, batch: 199, loss: 0.54983, acc: 0.56648\n",
      "global step 210, epoch: 1, batch: 209, loss: 0.58722, acc: 0.57381\n",
      "global step 220, epoch: 1, batch: 219, loss: 0.62179, acc: 0.58168\n",
      "global step 230, epoch: 1, batch: 229, loss: 0.51991, acc: 0.58872\n",
      "global step 240, epoch: 1, batch: 239, loss: 0.67022, acc: 0.59408\n",
      "global step 250, epoch: 1, batch: 249, loss: 0.80987, acc: 0.59831\n",
      "global step 260, epoch: 1, batch: 259, loss: 0.51123, acc: 0.60397\n",
      "global step 270, epoch: 1, batch: 269, loss: 0.61495, acc: 0.60775\n",
      "global step 280, epoch: 1, batch: 279, loss: 0.69383, acc: 0.61122\n",
      "global step 290, epoch: 1, batch: 289, loss: 0.63027, acc: 0.61536\n",
      "global step 300, epoch: 1, batch: 299, loss: 0.57049, acc: 0.61786\n",
      "global step 310, epoch: 1, batch: 309, loss: 0.66912, acc: 0.62203\n",
      "global step 320, epoch: 1, batch: 319, loss: 0.62599, acc: 0.62520\n",
      "global step 330, epoch: 1, batch: 329, loss: 0.58658, acc: 0.62860\n",
      "global step 340, epoch: 1, batch: 339, loss: 0.76918, acc: 0.63130\n",
      "global step 350, epoch: 1, batch: 349, loss: 0.64019, acc: 0.63362\n",
      "global step 360, epoch: 1, batch: 359, loss: 0.67079, acc: 0.63598\n",
      "global step 370, epoch: 1, batch: 369, loss: 0.61251, acc: 0.63915\n",
      "global step 380, epoch: 1, batch: 379, loss: 0.69892, acc: 0.64137\n",
      "global step 390, epoch: 1, batch: 389, loss: 0.43718, acc: 0.64459\n",
      "global step 400, epoch: 1, batch: 399, loss: 0.58867, acc: 0.64695\n",
      "global step 410, epoch: 1, batch: 409, loss: 0.57394, acc: 0.64909\n",
      "global step 420, epoch: 1, batch: 419, loss: 0.49537, acc: 0.65179\n",
      "global step 430, epoch: 1, batch: 429, loss: 0.58577, acc: 0.65345\n",
      "global step 440, epoch: 1, batch: 439, loss: 0.54542, acc: 0.65558\n",
      "global step 450, epoch: 1, batch: 449, loss: 0.54130, acc: 0.65774\n",
      "global step 460, epoch: 1, batch: 459, loss: 0.47095, acc: 0.65904\n",
      "global step 470, epoch: 1, batch: 469, loss: 0.71370, acc: 0.66021\n",
      "global step 480, epoch: 1, batch: 479, loss: 0.62933, acc: 0.66165\n",
      "global step 490, epoch: 1, batch: 489, loss: 0.67960, acc: 0.66266\n",
      "global step 500, epoch: 1, batch: 499, loss: 0.58700, acc: 0.66463\n",
      "global step 510, epoch: 1, batch: 509, loss: 0.53602, acc: 0.66587\n",
      "global step 520, epoch: 1, batch: 519, loss: 0.55172, acc: 0.66707\n",
      "global step 530, epoch: 1, batch: 529, loss: 0.67359, acc: 0.66869\n",
      "global step 540, epoch: 1, batch: 539, loss: 0.45461, acc: 0.67040\n",
      "global step 550, epoch: 1, batch: 549, loss: 0.53927, acc: 0.67205\n",
      "global step 560, epoch: 1, batch: 559, loss: 0.74991, acc: 0.67280\n",
      "global step 570, epoch: 1, batch: 569, loss: 0.68702, acc: 0.67426\n",
      "global step 580, epoch: 1, batch: 579, loss: 0.55348, acc: 0.67540\n",
      "global step 590, epoch: 1, batch: 589, loss: 0.52254, acc: 0.67651\n",
      "global step 600, epoch: 1, batch: 599, loss: 0.67689, acc: 0.67734\n",
      "global step 610, epoch: 1, batch: 609, loss: 0.61084, acc: 0.67853\n",
      "global step 620, epoch: 1, batch: 619, loss: 0.67439, acc: 0.67959\n",
      "global step 630, epoch: 1, batch: 629, loss: 0.54032, acc: 0.68075\n",
      "global step 640, epoch: 1, batch: 639, loss: 0.53460, acc: 0.68174\n",
      "global step 650, epoch: 1, batch: 649, loss: 0.49501, acc: 0.68250\n",
      "global step 660, epoch: 1, batch: 659, loss: 0.51595, acc: 0.68348\n",
      "global step 670, epoch: 1, batch: 669, loss: 0.45075, acc: 0.68433\n",
      "global step 680, epoch: 1, batch: 679, loss: 0.48549, acc: 0.68548\n",
      "global step 690, epoch: 1, batch: 689, loss: 0.53643, acc: 0.68621\n",
      "global step 700, epoch: 1, batch: 699, loss: 0.58409, acc: 0.68681\n",
      "global step 710, epoch: 1, batch: 709, loss: 0.65666, acc: 0.68781\n",
      "global step 720, epoch: 1, batch: 719, loss: 0.48126, acc: 0.68876\n",
      "global step 730, epoch: 1, batch: 729, loss: 0.65308, acc: 0.68960\n",
      "global step 740, epoch: 1, batch: 739, loss: 0.64457, acc: 0.69060\n",
      "global step 750, epoch: 1, batch: 749, loss: 0.63017, acc: 0.69133\n",
      "global step 760, epoch: 1, batch: 759, loss: 0.37182, acc: 0.69215\n",
      "global step 770, epoch: 1, batch: 769, loss: 0.50045, acc: 0.69269\n",
      "global step 780, epoch: 1, batch: 779, loss: 0.68823, acc: 0.69323\n",
      "global step 790, epoch: 1, batch: 789, loss: 0.51078, acc: 0.69363\n",
      "global step 800, epoch: 1, batch: 799, loss: 0.54930, acc: 0.69434\n",
      "global step 810, epoch: 1, batch: 809, loss: 0.53914, acc: 0.69508\n",
      "global step 820, epoch: 1, batch: 819, loss: 0.52356, acc: 0.69562\n",
      "global step 830, epoch: 1, batch: 829, loss: 0.70163, acc: 0.69629\n",
      "global step 840, epoch: 1, batch: 839, loss: 0.54208, acc: 0.69660\n",
      "global step 850, epoch: 1, batch: 849, loss: 0.51582, acc: 0.69717\n",
      "global step 860, epoch: 1, batch: 859, loss: 0.60455, acc: 0.69800\n",
      "global step 870, epoch: 1, batch: 869, loss: 0.77148, acc: 0.69867\n",
      "global step 880, epoch: 1, batch: 879, loss: 0.50599, acc: 0.69924\n",
      "global step 890, epoch: 1, batch: 889, loss: 0.59910, acc: 0.70019\n",
      "global step 900, epoch: 1, batch: 899, loss: 0.79401, acc: 0.70089\n",
      "global step 910, epoch: 1, batch: 909, loss: 0.66084, acc: 0.70141\n",
      "global step 920, epoch: 1, batch: 919, loss: 0.67741, acc: 0.70189\n",
      "global step 930, epoch: 1, batch: 929, loss: 0.64327, acc: 0.70234\n",
      "global step 940, epoch: 1, batch: 939, loss: 0.57407, acc: 0.70288\n",
      "global step 950, epoch: 1, batch: 949, loss: 0.63245, acc: 0.70342\n",
      "global step 960, epoch: 1, batch: 959, loss: 0.54395, acc: 0.70371\n",
      "global step 970, epoch: 1, batch: 969, loss: 0.58690, acc: 0.70393\n",
      "global step 980, epoch: 1, batch: 979, loss: 0.67659, acc: 0.70432\n",
      "global step 990, epoch: 1, batch: 989, loss: 0.63452, acc: 0.70478\n",
      "global step 1000, epoch: 1, batch: 999, loss: 0.55571, acc: 0.70514\n",
      "global step 1010, epoch: 1, batch: 1009, loss: 0.58284, acc: 0.70563\n",
      "global step 1020, epoch: 1, batch: 1019, loss: 0.46214, acc: 0.70607\n",
      "global step 1030, epoch: 1, batch: 1029, loss: 0.73706, acc: 0.70631\n",
      "global step 1040, epoch: 1, batch: 1039, loss: 0.55719, acc: 0.70663\n",
      "global step 1050, epoch: 1, batch: 1049, loss: 0.51077, acc: 0.70702\n",
      "global step 1060, epoch: 1, batch: 1059, loss: 0.55905, acc: 0.70775\n",
      "global step 1070, epoch: 1, batch: 1069, loss: 0.65024, acc: 0.70816\n",
      "global step 1080, epoch: 1, batch: 1079, loss: 0.49851, acc: 0.70883\n",
      "global step 1090, epoch: 1, batch: 1089, loss: 0.69673, acc: 0.70923\n",
      "global step 1100, epoch: 1, batch: 1099, loss: 0.63195, acc: 0.70949\n",
      "global step 1110, epoch: 1, batch: 1109, loss: 0.58083, acc: 0.70981\n",
      "global step 1120, epoch: 1, batch: 1119, loss: 0.47508, acc: 0.71038\n",
      "global step 1130, epoch: 1, batch: 1129, loss: 0.58010, acc: 0.71077\n",
      "global step 1140, epoch: 1, batch: 1139, loss: 0.50991, acc: 0.71109\n",
      "global step 1150, epoch: 1, batch: 1149, loss: 0.59843, acc: 0.71145\n",
      "global step 1160, epoch: 1, batch: 1159, loss: 0.60418, acc: 0.71173\n",
      "global step 1170, epoch: 1, batch: 1169, loss: 0.58425, acc: 0.71189\n",
      "global step 1180, epoch: 1, batch: 1179, loss: 0.67734, acc: 0.71235\n",
      "global step 1190, epoch: 1, batch: 1189, loss: 0.51828, acc: 0.71268\n",
      "global step 1200, epoch: 1, batch: 1199, loss: 0.62219, acc: 0.71275\n",
      "global step 1210, epoch: 1, batch: 1209, loss: 0.55818, acc: 0.71317\n",
      "global step 1220, epoch: 1, batch: 1219, loss: 0.53238, acc: 0.71350\n",
      "global step 1230, epoch: 1, batch: 1229, loss: 0.62736, acc: 0.71367\n",
      "global step 1240, epoch: 1, batch: 1239, loss: 0.68193, acc: 0.71377\n",
      "eval loss: 0.55663, accu: 0.75794\n",
      "global step 1250, epoch: 2, batch: 0, loss: 0.41719, acc: 0.85938\n",
      "global step 1260, epoch: 2, batch: 10, loss: 0.56963, acc: 0.78125\n",
      "global step 1270, epoch: 2, batch: 20, loss: 0.63323, acc: 0.77009\n",
      "global step 1280, epoch: 2, batch: 30, loss: 0.62429, acc: 0.77621\n",
      "global step 1290, epoch: 2, batch: 40, loss: 0.37762, acc: 0.78277\n",
      "global step 1300, epoch: 2, batch: 50, loss: 0.31168, acc: 0.78309\n",
      "global step 1310, epoch: 2, batch: 60, loss: 0.46337, acc: 0.78202\n",
      "global step 1320, epoch: 2, batch: 70, loss: 0.44451, acc: 0.77927\n",
      "global step 1330, epoch: 2, batch: 80, loss: 0.60302, acc: 0.77855\n",
      "global step 1340, epoch: 2, batch: 90, loss: 0.48007, acc: 0.78005\n",
      "global step 1350, epoch: 2, batch: 100, loss: 0.44680, acc: 0.77862\n",
      "global step 1360, epoch: 2, batch: 110, loss: 0.47395, acc: 0.77675\n",
      "global step 1370, epoch: 2, batch: 120, loss: 0.54544, acc: 0.77957\n",
      "global step 1380, epoch: 2, batch: 130, loss: 0.66035, acc: 0.77755\n",
      "global step 1390, epoch: 2, batch: 140, loss: 0.48628, acc: 0.77759\n",
      "global step 1400, epoch: 2, batch: 150, loss: 0.60481, acc: 0.77608\n",
      "global step 1410, epoch: 2, batch: 160, loss: 0.62660, acc: 0.77747\n",
      "global step 1420, epoch: 2, batch: 170, loss: 0.55177, acc: 0.77577\n",
      "global step 1430, epoch: 2, batch: 180, loss: 0.46997, acc: 0.77719\n",
      "global step 1440, epoch: 2, batch: 190, loss: 0.46677, acc: 0.77773\n",
      "global step 1450, epoch: 2, batch: 200, loss: 0.58523, acc: 0.77775\n",
      "global step 1460, epoch: 2, batch: 210, loss: 0.51626, acc: 0.77814\n",
      "global step 1470, epoch: 2, batch: 220, loss: 0.41521, acc: 0.77842\n",
      "global step 1480, epoch: 2, batch: 230, loss: 0.54324, acc: 0.77753\n",
      "global step 1490, epoch: 2, batch: 240, loss: 0.57257, acc: 0.77866\n",
      "global step 1500, epoch: 2, batch: 250, loss: 0.49802, acc: 0.77826\n",
      "global step 1510, epoch: 2, batch: 260, loss: 0.43423, acc: 0.77766\n",
      "global step 1520, epoch: 2, batch: 270, loss: 0.36329, acc: 0.77912\n",
      "global step 1530, epoch: 2, batch: 280, loss: 0.60082, acc: 0.77869\n",
      "global step 1540, epoch: 2, batch: 290, loss: 0.54373, acc: 0.77835\n",
      "global step 1550, epoch: 2, batch: 300, loss: 0.47953, acc: 0.77871\n",
      "global step 1560, epoch: 2, batch: 310, loss: 0.42631, acc: 0.77924\n",
      "global step 1570, epoch: 2, batch: 320, loss: 0.59270, acc: 0.78023\n",
      "global step 1580, epoch: 2, batch: 330, loss: 0.50021, acc: 0.78002\n",
      "global step 1590, epoch: 2, batch: 340, loss: 0.46453, acc: 0.78070\n",
      "global step 1600, epoch: 2, batch: 350, loss: 0.43164, acc: 0.78098\n",
      "global step 1610, epoch: 2, batch: 360, loss: 0.58133, acc: 0.78077\n",
      "global step 1620, epoch: 2, batch: 370, loss: 0.54262, acc: 0.78091\n",
      "global step 1630, epoch: 2, batch: 380, loss: 0.53374, acc: 0.78096\n",
      "global step 1640, epoch: 2, batch: 390, loss: 0.42521, acc: 0.78149\n",
      "global step 1650, epoch: 2, batch: 400, loss: 0.38938, acc: 0.78141\n",
      "global step 1660, epoch: 2, batch: 410, loss: 0.45358, acc: 0.78114\n",
      "global step 1670, epoch: 2, batch: 420, loss: 0.74266, acc: 0.78040\n",
      "global step 1680, epoch: 2, batch: 430, loss: 0.39429, acc: 0.78096\n",
      "global step 1690, epoch: 2, batch: 440, loss: 0.55665, acc: 0.78090\n",
      "global step 1700, epoch: 2, batch: 450, loss: 0.63897, acc: 0.78011\n",
      "global step 1710, epoch: 2, batch: 460, loss: 0.56006, acc: 0.77966\n",
      "global step 1720, epoch: 2, batch: 470, loss: 0.41463, acc: 0.77952\n",
      "global step 1730, epoch: 2, batch: 480, loss: 0.47244, acc: 0.77904\n",
      "global step 1740, epoch: 2, batch: 490, loss: 0.49454, acc: 0.77890\n",
      "global step 1750, epoch: 2, batch: 500, loss: 0.56342, acc: 0.77860\n",
      "global step 1760, epoch: 2, batch: 510, loss: 0.45445, acc: 0.77831\n",
      "global step 1770, epoch: 2, batch: 520, loss: 0.45924, acc: 0.77813\n",
      "global step 1780, epoch: 2, batch: 530, loss: 0.59748, acc: 0.77725\n",
      "global step 1790, epoch: 2, batch: 540, loss: 0.44822, acc: 0.77689\n",
      "global step 1800, epoch: 2, batch: 550, loss: 0.50874, acc: 0.77685\n",
      "global step 1810, epoch: 2, batch: 560, loss: 0.51152, acc: 0.77704\n",
      "global step 1820, epoch: 2, batch: 570, loss: 0.60361, acc: 0.77646\n",
      "global step 1830, epoch: 2, batch: 580, loss: 0.61888, acc: 0.77641\n",
      "global step 1840, epoch: 2, batch: 590, loss: 0.52233, acc: 0.77678\n",
      "global step 1850, epoch: 2, batch: 600, loss: 0.50987, acc: 0.77688\n",
      "global step 1860, epoch: 2, batch: 610, loss: 0.48109, acc: 0.77683\n",
      "global step 1870, epoch: 2, batch: 620, loss: 0.48965, acc: 0.77717\n",
      "global step 1880, epoch: 2, batch: 630, loss: 0.49343, acc: 0.77729\n",
      "global step 1890, epoch: 2, batch: 640, loss: 0.29317, acc: 0.77793\n",
      "global step 1900, epoch: 2, batch: 650, loss: 0.49424, acc: 0.77835\n",
      "global step 1910, epoch: 2, batch: 660, loss: 0.37626, acc: 0.77863\n",
      "global step 1920, epoch: 2, batch: 670, loss: 0.52826, acc: 0.77892\n",
      "global step 1930, epoch: 2, batch: 680, loss: 0.37827, acc: 0.77909\n",
      "global step 1940, epoch: 2, batch: 690, loss: 0.53661, acc: 0.77940\n",
      "global step 1950, epoch: 2, batch: 700, loss: 0.37686, acc: 0.77933\n",
      "global step 1960, epoch: 2, batch: 710, loss: 0.53357, acc: 0.77932\n",
      "global step 1970, epoch: 2, batch: 720, loss: 0.45390, acc: 0.77984\n",
      "global step 1980, epoch: 2, batch: 730, loss: 0.43943, acc: 0.77995\n",
      "global step 1990, epoch: 2, batch: 740, loss: 0.50464, acc: 0.77996\n",
      "global step 2000, epoch: 2, batch: 750, loss: 0.50327, acc: 0.78011\n",
      "global step 2010, epoch: 2, batch: 760, loss: 0.49832, acc: 0.78018\n",
      "global step 2020, epoch: 2, batch: 770, loss: 0.49672, acc: 0.78054\n",
      "global step 2030, epoch: 2, batch: 780, loss: 0.53441, acc: 0.78027\n",
      "global step 2040, epoch: 2, batch: 790, loss: 0.48137, acc: 0.78016\n",
      "global step 2050, epoch: 2, batch: 800, loss: 0.35214, acc: 0.78039\n",
      "global step 2060, epoch: 2, batch: 810, loss: 0.49109, acc: 0.78056\n",
      "global step 2070, epoch: 2, batch: 820, loss: 0.50769, acc: 0.78043\n",
      "global step 2080, epoch: 2, batch: 830, loss: 0.44811, acc: 0.78061\n",
      "global step 2090, epoch: 2, batch: 840, loss: 0.50230, acc: 0.78060\n",
      "global step 2100, epoch: 2, batch: 850, loss: 0.46017, acc: 0.78099\n",
      "global step 2110, epoch: 2, batch: 860, loss: 0.66309, acc: 0.78101\n",
      "global step 2120, epoch: 2, batch: 870, loss: 0.38728, acc: 0.78116\n",
      "global step 2130, epoch: 2, batch: 880, loss: 0.42368, acc: 0.78102\n",
      "global step 2140, epoch: 2, batch: 890, loss: 0.47759, acc: 0.78120\n",
      "global step 2150, epoch: 2, batch: 900, loss: 0.46797, acc: 0.78132\n",
      "global step 2160, epoch: 2, batch: 910, loss: 0.44327, acc: 0.78127\n",
      "global step 2170, epoch: 2, batch: 920, loss: 0.48867, acc: 0.78133\n",
      "global step 2180, epoch: 2, batch: 930, loss: 0.44657, acc: 0.78128\n",
      "global step 2190, epoch: 2, batch: 940, loss: 0.44824, acc: 0.78143\n",
      "global step 2200, epoch: 2, batch: 950, loss: 0.45168, acc: 0.78141\n",
      "global step 2210, epoch: 2, batch: 960, loss: 0.50235, acc: 0.78172\n",
      "global step 2220, epoch: 2, batch: 970, loss: 0.56692, acc: 0.78186\n",
      "global step 2230, epoch: 2, batch: 980, loss: 0.52897, acc: 0.78205\n",
      "global step 2240, epoch: 2, batch: 990, loss: 0.50641, acc: 0.78175\n",
      "global step 2250, epoch: 2, batch: 1000, loss: 0.42421, acc: 0.78169\n",
      "global step 2260, epoch: 2, batch: 1010, loss: 0.48283, acc: 0.78162\n",
      "global step 2270, epoch: 2, batch: 1020, loss: 0.42952, acc: 0.78200\n",
      "global step 2280, epoch: 2, batch: 1030, loss: 0.59497, acc: 0.78195\n",
      "global step 2290, epoch: 2, batch: 1040, loss: 0.46591, acc: 0.78199\n",
      "global step 2300, epoch: 2, batch: 1050, loss: 0.48681, acc: 0.78201\n",
      "global step 2310, epoch: 2, batch: 1060, loss: 0.50869, acc: 0.78206\n",
      "global step 2320, epoch: 2, batch: 1070, loss: 0.56539, acc: 0.78217\n",
      "global step 2330, epoch: 2, batch: 1080, loss: 0.48966, acc: 0.78226\n",
      "global step 2340, epoch: 2, batch: 1090, loss: 0.36230, acc: 0.78237\n",
      "global step 2350, epoch: 2, batch: 1100, loss: 0.53837, acc: 0.78243\n",
      "global step 2360, epoch: 2, batch: 1110, loss: 0.26931, acc: 0.78254\n",
      "global step 2370, epoch: 2, batch: 1120, loss: 0.37990, acc: 0.78274\n",
      "global step 2380, epoch: 2, batch: 1130, loss: 0.54789, acc: 0.78295\n",
      "global step 2390, epoch: 2, batch: 1140, loss: 0.51448, acc: 0.78278\n",
      "global step 2400, epoch: 2, batch: 1150, loss: 0.41274, acc: 0.78284\n",
      "global step 2410, epoch: 2, batch: 1160, loss: 0.56047, acc: 0.78281\n",
      "global step 2420, epoch: 2, batch: 1170, loss: 0.38335, acc: 0.78280\n",
      "global step 2430, epoch: 2, batch: 1180, loss: 0.47368, acc: 0.78293\n",
      "global step 2440, epoch: 2, batch: 1190, loss: 0.50253, acc: 0.78293\n",
      "global step 2450, epoch: 2, batch: 1200, loss: 0.47960, acc: 0.78294\n",
      "global step 2460, epoch: 2, batch: 1210, loss: 0.44588, acc: 0.78311\n",
      "global step 2470, epoch: 2, batch: 1220, loss: 0.49131, acc: 0.78331\n",
      "global step 2480, epoch: 2, batch: 1230, loss: 0.50154, acc: 0.78340\n",
      "global step 2490, epoch: 2, batch: 1240, loss: 0.39370, acc: 0.78345\n",
      "eval loss: 0.55472, accu: 0.75789\n",
      "global step 2500, epoch: 3, batch: 1, loss: 0.47784, acc: 0.80469\n",
      "global step 2510, epoch: 3, batch: 11, loss: 0.39693, acc: 0.84115\n",
      "global step 2520, epoch: 3, batch: 21, loss: 0.42859, acc: 0.83452\n",
      "global step 2530, epoch: 3, batch: 31, loss: 0.56853, acc: 0.83301\n",
      "global step 2540, epoch: 3, batch: 41, loss: 0.33213, acc: 0.83333\n",
      "global step 2550, epoch: 3, batch: 51, loss: 0.52813, acc: 0.83504\n",
      "global step 2560, epoch: 3, batch: 61, loss: 0.53939, acc: 0.83594\n",
      "global step 2570, epoch: 3, batch: 71, loss: 0.38014, acc: 0.83225\n",
      "global step 2580, epoch: 3, batch: 81, loss: 0.52113, acc: 0.83022\n",
      "global step 2590, epoch: 3, batch: 91, loss: 0.37327, acc: 0.82779\n",
      "global step 2600, epoch: 3, batch: 101, loss: 0.38367, acc: 0.82598\n",
      "global step 2610, epoch: 3, batch: 111, loss: 0.31121, acc: 0.82631\n",
      "global step 2620, epoch: 3, batch: 121, loss: 0.27891, acc: 0.82684\n",
      "global step 2630, epoch: 3, batch: 131, loss: 0.43999, acc: 0.82623\n",
      "global step 2640, epoch: 3, batch: 141, loss: 0.44674, acc: 0.82669\n",
      "global step 2650, epoch: 3, batch: 151, loss: 0.24059, acc: 0.82843\n",
      "global step 2660, epoch: 3, batch: 161, loss: 0.50453, acc: 0.82919\n",
      "global step 2670, epoch: 3, batch: 171, loss: 0.40859, acc: 0.82958\n",
      "global step 2680, epoch: 3, batch: 181, loss: 0.41498, acc: 0.82881\n",
      "global step 2690, epoch: 3, batch: 191, loss: 0.46824, acc: 0.82894\n",
      "global step 2700, epoch: 3, batch: 201, loss: 0.48148, acc: 0.82805\n",
      "global step 2710, epoch: 3, batch: 211, loss: 0.42113, acc: 0.82805\n",
      "global step 2720, epoch: 3, batch: 221, loss: 0.24515, acc: 0.82862\n",
      "global step 2730, epoch: 3, batch: 231, loss: 0.34441, acc: 0.82907\n",
      "global step 2740, epoch: 3, batch: 241, loss: 0.39063, acc: 0.83019\n",
      "global step 2750, epoch: 3, batch: 251, loss: 0.47435, acc: 0.83123\n",
      "global step 2760, epoch: 3, batch: 261, loss: 0.45693, acc: 0.83170\n",
      "global step 2770, epoch: 3, batch: 271, loss: 0.59600, acc: 0.83140\n",
      "global step 2780, epoch: 3, batch: 281, loss: 0.38864, acc: 0.83090\n",
      "global step 2790, epoch: 3, batch: 291, loss: 0.41693, acc: 0.83043\n",
      "global step 2800, epoch: 3, batch: 301, loss: 0.50690, acc: 0.83045\n",
      "global step 2810, epoch: 3, batch: 311, loss: 0.49487, acc: 0.82968\n",
      "global step 2820, epoch: 3, batch: 321, loss: 0.38369, acc: 0.82953\n",
      "global step 2830, epoch: 3, batch: 331, loss: 0.36861, acc: 0.82916\n",
      "global step 2840, epoch: 3, batch: 341, loss: 0.61426, acc: 0.82908\n",
      "global step 2850, epoch: 3, batch: 351, loss: 0.32716, acc: 0.82941\n",
      "global step 2860, epoch: 3, batch: 361, loss: 0.36321, acc: 0.82981\n",
      "global step 2870, epoch: 3, batch: 371, loss: 0.62155, acc: 0.82871\n",
      "global step 2880, epoch: 3, batch: 381, loss: 0.45476, acc: 0.82890\n",
      "global step 2890, epoch: 3, batch: 391, loss: 0.44301, acc: 0.82876\n",
      "global step 2900, epoch: 3, batch: 401, loss: 0.28904, acc: 0.82879\n",
      "global step 2910, epoch: 3, batch: 411, loss: 0.52056, acc: 0.82881\n",
      "global step 2920, epoch: 3, batch: 421, loss: 0.46456, acc: 0.82861\n",
      "global step 2930, epoch: 3, batch: 431, loss: 0.38951, acc: 0.82820\n",
      "global step 2940, epoch: 3, batch: 441, loss: 0.37116, acc: 0.82830\n",
      "global step 2950, epoch: 3, batch: 451, loss: 0.40233, acc: 0.82812\n",
      "global step 2960, epoch: 3, batch: 461, loss: 0.50071, acc: 0.82816\n",
      "global step 2970, epoch: 3, batch: 471, loss: 0.45030, acc: 0.82812\n",
      "global step 2980, epoch: 3, batch: 481, loss: 0.32427, acc: 0.82881\n",
      "global step 2990, epoch: 3, batch: 491, loss: 0.37794, acc: 0.82809\n",
      "global step 3000, epoch: 3, batch: 501, loss: 0.39895, acc: 0.82828\n",
      "global step 3010, epoch: 3, batch: 511, loss: 0.38202, acc: 0.82825\n",
      "global step 3020, epoch: 3, batch: 521, loss: 0.32254, acc: 0.82821\n",
      "global step 3030, epoch: 3, batch: 531, loss: 0.34397, acc: 0.82827\n",
      "global step 3040, epoch: 3, batch: 541, loss: 0.28444, acc: 0.82873\n",
      "global step 3050, epoch: 3, batch: 551, loss: 0.43936, acc: 0.82829\n",
      "global step 3060, epoch: 3, batch: 561, loss: 0.49080, acc: 0.82854\n",
      "global step 3070, epoch: 3, batch: 571, loss: 0.40074, acc: 0.82837\n",
      "global step 3080, epoch: 3, batch: 581, loss: 0.38629, acc: 0.82815\n",
      "global step 3090, epoch: 3, batch: 591, loss: 0.35108, acc: 0.82799\n",
      "global step 3100, epoch: 3, batch: 601, loss: 0.35709, acc: 0.82745\n",
      "global step 3110, epoch: 3, batch: 611, loss: 0.49421, acc: 0.82715\n",
      "global step 3120, epoch: 3, batch: 621, loss: 0.45028, acc: 0.82750\n",
      "global step 3130, epoch: 3, batch: 631, loss: 0.40934, acc: 0.82753\n",
      "global step 3140, epoch: 3, batch: 641, loss: 0.34980, acc: 0.82744\n",
      "global step 3150, epoch: 3, batch: 651, loss: 0.30415, acc: 0.82731\n",
      "global step 3160, epoch: 3, batch: 661, loss: 0.50076, acc: 0.82739\n",
      "global step 3170, epoch: 3, batch: 671, loss: 0.33718, acc: 0.82717\n",
      "global step 3180, epoch: 3, batch: 681, loss: 0.32660, acc: 0.82730\n",
      "global step 3190, epoch: 3, batch: 691, loss: 0.30967, acc: 0.82767\n",
      "global step 3200, epoch: 3, batch: 701, loss: 0.51215, acc: 0.82746\n",
      "global step 3210, epoch: 3, batch: 711, loss: 0.39239, acc: 0.82777\n",
      "global step 3220, epoch: 3, batch: 721, loss: 0.35687, acc: 0.82787\n",
      "global step 3230, epoch: 3, batch: 731, loss: 0.28355, acc: 0.82772\n",
      "global step 3240, epoch: 3, batch: 741, loss: 0.43399, acc: 0.82749\n",
      "global step 3250, epoch: 3, batch: 751, loss: 0.46469, acc: 0.82756\n",
      "global step 3260, epoch: 3, batch: 761, loss: 0.38727, acc: 0.82771\n",
      "global step 3270, epoch: 3, batch: 771, loss: 0.35641, acc: 0.82723\n",
      "global step 3280, epoch: 3, batch: 781, loss: 0.36042, acc: 0.82741\n",
      "global step 3290, epoch: 3, batch: 791, loss: 0.37180, acc: 0.82734\n",
      "global step 3300, epoch: 3, batch: 801, loss: 0.27755, acc: 0.82754\n",
      "global step 3310, epoch: 3, batch: 811, loss: 0.45943, acc: 0.82718\n",
      "global step 3320, epoch: 3, batch: 821, loss: 0.45841, acc: 0.82735\n",
      "global step 3330, epoch: 3, batch: 831, loss: 0.49180, acc: 0.82734\n",
      "global step 3340, epoch: 3, batch: 841, loss: 0.42506, acc: 0.82787\n",
      "global step 3350, epoch: 3, batch: 851, loss: 0.56839, acc: 0.82761\n",
      "global step 3360, epoch: 3, batch: 861, loss: 0.45203, acc: 0.82769\n",
      "global step 3370, epoch: 3, batch: 871, loss: 0.32073, acc: 0.82762\n",
      "global step 3380, epoch: 3, batch: 881, loss: 0.60687, acc: 0.82763\n",
      "global step 3390, epoch: 3, batch: 891, loss: 0.38949, acc: 0.82767\n",
      "global step 3400, epoch: 3, batch: 901, loss: 0.42851, acc: 0.82774\n",
      "global step 3410, epoch: 3, batch: 911, loss: 0.37163, acc: 0.82789\n",
      "global step 3420, epoch: 3, batch: 921, loss: 0.47285, acc: 0.82789\n",
      "global step 3430, epoch: 3, batch: 931, loss: 0.54082, acc: 0.82784\n",
      "global step 3440, epoch: 3, batch: 941, loss: 0.37431, acc: 0.82801\n",
      "global step 3450, epoch: 3, batch: 951, loss: 0.30684, acc: 0.82824\n",
      "global step 3460, epoch: 3, batch: 961, loss: 0.28011, acc: 0.82838\n",
      "global step 3470, epoch: 3, batch: 971, loss: 0.37336, acc: 0.82846\n",
      "global step 3480, epoch: 3, batch: 981, loss: 0.33653, acc: 0.82855\n",
      "global step 3490, epoch: 3, batch: 991, loss: 0.34720, acc: 0.82872\n",
      "global step 3500, epoch: 3, batch: 1001, loss: 0.38240, acc: 0.82853\n",
      "global step 3510, epoch: 3, batch: 1011, loss: 0.43171, acc: 0.82834\n",
      "global step 3520, epoch: 3, batch: 1021, loss: 0.28277, acc: 0.82851\n",
      "global step 3530, epoch: 3, batch: 1031, loss: 0.37702, acc: 0.82858\n",
      "global step 3540, epoch: 3, batch: 1041, loss: 0.46162, acc: 0.82907\n",
      "global step 3550, epoch: 3, batch: 1051, loss: 0.30486, acc: 0.82902\n",
      "global step 3560, epoch: 3, batch: 1061, loss: 0.51456, acc: 0.82908\n",
      "global step 3570, epoch: 3, batch: 1071, loss: 0.38639, acc: 0.82913\n",
      "global step 3580, epoch: 3, batch: 1081, loss: 0.33706, acc: 0.82903\n",
      "global step 3590, epoch: 3, batch: 1091, loss: 0.30299, acc: 0.82908\n",
      "global step 3600, epoch: 3, batch: 1101, loss: 0.38541, acc: 0.82927\n",
      "global step 3610, epoch: 3, batch: 1111, loss: 0.44034, acc: 0.82912\n",
      "global step 3620, epoch: 3, batch: 1121, loss: 0.32476, acc: 0.82907\n",
      "global step 3630, epoch: 3, batch: 1131, loss: 0.34152, acc: 0.82923\n",
      "global step 3640, epoch: 3, batch: 1141, loss: 0.27470, acc: 0.82947\n",
      "global step 3650, epoch: 3, batch: 1151, loss: 0.44386, acc: 0.82945\n",
      "global step 3660, epoch: 3, batch: 1161, loss: 0.37344, acc: 0.82962\n",
      "global step 3670, epoch: 3, batch: 1171, loss: 0.48719, acc: 0.82944\n",
      "global step 3680, epoch: 3, batch: 1181, loss: 0.28805, acc: 0.82962\n",
      "global step 3690, epoch: 3, batch: 1191, loss: 0.34640, acc: 0.82961\n",
      "global step 3700, epoch: 3, batch: 1201, loss: 0.42992, acc: 0.82984\n",
      "global step 3710, epoch: 3, batch: 1211, loss: 0.44351, acc: 0.82976\n",
      "global step 3720, epoch: 3, batch: 1221, loss: 0.29390, acc: 0.82972\n",
      "global step 3730, epoch: 3, batch: 1231, loss: 0.30385, acc: 0.82990\n",
      "global step 3740, epoch: 3, batch: 1241, loss: 0.24858, acc: 0.82987\n",
      "eval loss: 0.58235, accu: 0.75864\n"
     ]
    }
   ],
   "source": [
    "import paddle.nn.functional as F\n",
    "from utils import evaluate\n",
    "\n",
    "global_step = 0\n",
    "all_loss = []\n",
    "all_acc = []\n",
    "for epoch in range(1, epochs + 1):\n",
    "    for step, batch in enumerate(train_data_loader):\n",
    "        input_ids, segment_ids, labels = batch\n",
    "        logits = model(input_ids, segment_ids)\n",
    "        loss = criterion(logits, labels)\n",
    "        probs = F.softmax(logits, axis=1)\n",
    "        correct = metric.compute(probs, labels)\n",
    "        metric.update(correct)\n",
    "        acc = metric.accumulate()\n",
    "        all_loss.append(loss)\n",
    "        all_acc.append(acc)\n",
    "\n",
    "        global_step += 1\n",
    "        if global_step % 10 == 0 :\n",
    "            print(\"global step %d, epoch: %d, batch: %d, loss: %.5f, acc: %.5f\" % (global_step, epoch, step, loss, acc))\n",
    "        loss.backward()\n",
    "        optimizer.step()\n",
    "        lr_scheduler.step()\n",
    "        optimizer.clear_grad()\n",
    "    evaluate(model, criterion, metric, dev_data_loader)\n",
    "\n",
    "model.save_pretrained('/home/aistudio/model')\n",
    "tokenizer.save_pretrained('/home/aistudio/model')"
   ]
  },
  {
   "cell_type": "code",
   "execution_count": 26,
   "metadata": {
    "execution": {
     "iopub.execute_input": "2022-03-05T08:58:41.659775Z",
     "iopub.status.busy": "2022-03-05T08:58:41.659050Z",
     "iopub.status.idle": "2022-03-05T08:58:42.077391Z",
     "shell.execute_reply": "2022-03-05T08:58:42.076672Z",
     "shell.execute_reply.started": "2022-03-05T08:58:41.659736Z"
    },
    "scrolled": true
   },
   "outputs": [
    {
     "data": {
      "image/png": "[encoded data removed]",
      "text/plain": [
       "<Figure size 432x288 with 1 Axes>"
      ]
     },
     "metadata": {
      "needs_background": "light"
     },
     "output_type": "display_data"
    }
   ],
   "source": [
    "# 绘制模型训练过程曲线\n",
    "accArr = pd.Series(all_acc,name='acc')\n",
    "lossArr = pd.Series(all_loss, name='loss')\n",
    "\n",
    "accRoll = accArr.rolling(window=100).mean()\n",
    "lossRoll = lossArr.rolling(window=100).mean()  # 使用滑动窗口使得数据平滑，观察趋势\n",
    "accRoll.plot()\n",
    "lossRoll.plot()\n",
    "\n",
    "plt.legend()\n",
    "plt.title(\"acc 和 loss 训练曲线\", fontproperties=myfont, fontsize=16)\n",
    "plt.show()"
   ]
  },
  {
   "cell_type": "markdown",
   "metadata": {},
   "source": [
    "## 5. 模型预测\n",
    "\n",
    "### 5.1 赛题数据预测\n",
    "\n",
    "对测试数据进行预测，并上传比赛平台。并绘制测试集预测结果，用户情感分布情况，与训练集大致上类似。"
   ]
  },
  {
   "cell_type": "code",
   "execution_count": 27,
   "metadata": {
    "execution": {
     "iopub.execute_input": "2022-03-05T08:58:44.637810Z",
     "iopub.status.busy": "2022-03-05T08:58:44.637274Z",
     "iopub.status.idle": "2022-03-05T08:59:13.721538Z",
     "shell.execute_reply": "2022-03-05T08:59:13.720832Z",
     "shell.execute_reply.started": "2022-03-05T08:58:44.637767Z"
    },
    "scrolled": true
   },
   "outputs": [],
   "source": [
    "from utils import predict\n",
    "\n",
    "# 读取测试集数据\n",
    "test = pd.read_csv('work/test.txt', names=['text'] , sep='\\t', dtype=str)\n",
    "test = test.fillna(' ')  # 填补空值\n",
    "data = test.to_dict(orient='record')\n",
    "\n",
    "label_map = {0: '-1', 1: '0', 2: '1'}  # 标记map\n",
    "\n",
    "# 模型预测\n",
    "pred_label = predict(model, data, tokenizer, label_map, batch_size=batch_size)\n",
    "\n",
    "# 写入结果\n",
    "submit = pd.read_csv('work/submit_example.csv')\n",
    "submit['y'] = pd.DataFrame(pred_label)\n",
    "submit.to_csv('work/submit_example.csv',index=False)"
   ]
  },
  {
   "cell_type": "code",
   "execution_count": 28,
   "metadata": {
    "execution": {
     "iopub.execute_input": "2022-03-05T08:59:13.740618Z",
     "iopub.status.busy": "2022-03-05T08:59:13.740347Z",
     "iopub.status.idle": "2022-03-05T08:59:13.854885Z",
     "shell.execute_reply": "2022-03-05T08:59:13.854079Z",
     "shell.execute_reply.started": "2022-03-05T08:59:13.740591Z"
    },
    "scrolled": true
   },
   "outputs": [
    {
     "data": {
      "image/png": "[encoded data removed]",
      "text/plain": [
       "<Figure size 432x288 with 1 Axes>"
      ]
     },
     "metadata": {
      "needs_background": "light"
     },
     "output_type": "display_data"
    }
   ],
   "source": [
    "# 绘制测试集用户情感分布\n",
    "submit['y'].value_counts(normalize=True).plot.bar(rot=0)\n",
    "plt.title(\"测试集用户情感分布\", fontproperties=myfont, fontsize=16)\n",
    "plt.show()"
   ]
  },
  {
   "cell_type": "markdown",
   "metadata": {},
   "source": [
    "### 5.2 🙊『面向对象』测试。\n",
    "\n",
    "脱离语境问题不大，但是结合聊天语境就有些欠缺了，毕竟只是一个短文本三分类，而且并不是相关训练集训练。"
   ]
  },
  {
   "cell_type": "code",
   "execution_count": 29,
   "metadata": {
    "execution": {
     "iopub.execute_input": "2022-03-05T08:59:13.857009Z",
     "iopub.status.busy": "2022-03-05T08:59:13.856387Z",
     "iopub.status.idle": "2022-03-05T08:59:13.939235Z",
     "shell.execute_reply": "2022-03-05T08:59:13.938460Z",
     "shell.execute_reply.started": "2022-03-05T08:59:13.856976Z"
    },
    "scrolled": true
   },
   "outputs": [
    {
     "name": "stdout",
     "output_type": "stream",
     "text": [
      "Lable: negative \t yyl是个大笨蛋\n",
      "Lable: positive \t yyl很可爱\n",
      "Lable: neutral  \t yyl是一名幼稚园小朋友\n",
      "Lable: negative \t 就你还能分析出我的情感？\n",
      "Lable: negative \t 我不信我不信\n",
      "Lable: neutral  \t 预测的很准，下次不要预测了\n"
     ]
    }
   ],
   "source": [
    "from utils import predict\n",
    "\n",
    "data = [\n",
    "    {\"text\":'yyl是个大笨蛋'},\n",
    "    {\"text\":'yyl很可爱'},\n",
    "    {\"text\":'yyl是一名幼稚园小朋友'},\n",
    "    {\"text\":'就你还能分析出我的情感？'},\n",
    "    {\"text\":'我不信我不信'},\n",
    "    {\"text\":'预测的很准，下次不要预测了'},\n",
    "]\n",
    "\n",
    "label_map = {0: 'negative', 1: 'neutral ', 2: 'positive'} \n",
    "\n",
    "results = predict(model, data, tokenizer, label_map, batch_size=batch_size)\n",
    "for idx, text in enumerate(data):\n",
    "    print(f\"Lable: {results[idx]} \\t {text['text']}\")"
   ]
  },
  {
   "cell_type": "markdown",
   "metadata": {},
   "source": [
    "## 6. 总结与升华\n",
    "\n",
    "本次项目使用疫情期间在微博平台上网民的言论及其情绪是否积极的标签来训练模型，从而使得可以对疫情期间网民情绪有大体上的了解，从而可以进行正确的引导。\n",
    "\n",
    "项目中使用的是`ERNIE` 模型，很多的内容都已经封装过了，学习时只要知道基本的原理和接口就可以快速实现一个情感分类的模型，最后提交的模型得分是0.703，大概在400名左右，如果进一步进行细致的调参可能会有更好的效果。\n",
    "\n",
    "总的来说该项目使我第一次认识到自然语言处理的一些处理方法和大致流程，希望之后能在NLP领域更深入的学习。"
   ]
  },
  {
   "cell_type": "markdown",
   "metadata": {},
   "source": [
    "## 7. 个人总结\n",
    "\n",
    "我目前感兴趣的方向是自然语言处理，希望有兴趣的伙伴多多交流。\n",
    "\n",
    "* [Github](https://github.com/Gipbear)\n",
    "* [CSDN](https://blog.csdn.net/weixin_49689323)\n",
    "* [个人Blog](https://gipbear.github.io/)\n"
   ]
  }
 ],
 "metadata": {
  "kernelspec": {
   "display_name": "paddle_env",
   "language": "python",
   "name": "paddle_env"
  },
  "language_info": {
   "codemirror_mode": {
    "name": "ipython",
    "version": 3
   },
   "file_extension": ".py",
   "mimetype": "text/x-python",
   "name": "python",
   "nbconvert_exporter": "python",
   "pygments_lexer": "ipython3",
   "version": "3.9.10"
  }
 },
 "nbformat": 4,
 "nbformat_minor": 4
}
